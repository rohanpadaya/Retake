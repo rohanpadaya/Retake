{
 "cells": [
  {
   "cell_type": "markdown",
   "metadata": {},
   "source": [
    "# B | Module Test"
   ]
  },
  {
   "cell_type": "markdown",
   "metadata": {},
   "source": [
    "## Part I - Core Questions\n",
    "\n",
    "### Question 1"
   ]
  },
  {
   "cell_type": "code",
   "execution_count": 1,
   "metadata": {
    "tags": []
   },
   "outputs": [],
   "source": [
    "# Write your shell and git commands here \n",
    "git clone https://github.com/rohanpadaya/Retake.git\n",
    "cd Retake\n",
    "mkdir qn-1\n",
    "mkdir qn-2\n",
    "mkdir qn-3\n",
    "mkdir qn-4\n",
    "mkdir qn-5\n",
    "cd qn-1\n",
    "touch submit.txt\n",
    "cd ..\n",
    "git add qn-1\n",
    "git config --global user.email \"fake@fake.com\"\n",
    "git config --global user.name \"rohan\"\n",
    "git commit -m \"added qn-1 dir\"\n",
    "git push"
   ]
  },
  {
   "cell_type": "markdown",
   "metadata": {},
   "source": [
    "### Question 2"
   ]
  },
  {
   "cell_type": "markdown",
   "metadata": {
    "tags": []
   },
   "source": [
    "Your solution to this question should be a file, **explore.sh**, added to your GitHub repository."
   ]
  },
  {
   "cell_type": "code",
   "execution_count": 2,
   "metadata": {},
   "outputs": [],
   "source": [
    "# Write your shell and git commands here \n",
    "\n",
    "cd qn-2\n",
    "touch explore.sh\n",
    "./explore.sh Student\n",
    "cd ..\n",
    "git add qn-2\n",
    "git commit -m \"Qn 2 complete\"\n"
   ]
  },
  {
   "cell_type": "markdown",
   "metadata": {},
   "source": [
    "### Question 3"
   ]
  },
  {
   "cell_type": "code",
   "execution_count": 1,
   "metadata": {
    "tags": []
   },
   "outputs": [
    {
     "ename": "SyntaxError",
     "evalue": "invalid syntax (195850357.py, line 3)",
     "output_type": "error",
     "traceback": [
      "\u001b[1;36m  Input \u001b[1;32mIn [1]\u001b[1;36m\u001b[0m\n\u001b[1;33m    Test Case 1: Checking whether the function returns a non negative integer or Absolute difference by using assert\u001b[0m\n\u001b[1;37m         ^\u001b[0m\n\u001b[1;31mSyntaxError\u001b[0m\u001b[1;31m:\u001b[0m invalid syntax\n"
     ]
    }
   ],
   "source": [
    "# Write your test cases and comments here\n",
    "\n",
    "#Test Case 1: Checking whether the function returns a non negative integer or Absolute difference by using assert\n",
    "# -This test case ensures that the function will return absolute difference and not a negative difference of the two numbers.\n",
    "\n",
    "    def absolute_difference (a, b):\n",
    "\n",
    "    if (a < b):\n",
    "        a = b\n",
    "        b = a\n",
    "    assert if((a-b)>0),'The function returns negative difference'\n",
    "    return a - b\n",
    "\n",
    "diff = absolute_difference(1.0, 2)\n",
    "print(diff)\n",
    "\n",
    "#Test Case 2: Checking whether the function returns the correct absolute difference between the given numbers\n",
    "# This test case checks whether the function returns a correct difference between the numbers or not.\n",
    "    def absolute_difference (a, b):\n",
    "\n",
    "    if (a < b):\n",
    "        a = b\n",
    "        b = a\n",
    "\n",
    "    return a - b\n",
    "\n",
    "diff = absolute_difference(1.0, 2)\n",
    "assert if(diff==abs(1.0-2)),'The function returns incorrect difference between the numbers'\n",
    "print(diff)\n",
    "    \n",
    "#Test Case 3:Check whether the function returns the correct data type of the difference of the numbers\n",
    "    def absolute_difference (a, b):\n",
    "\n",
    "    if (a < b):\n",
    "        a = b\n",
    "        b = a\n",
    "\n",
    "    return a - b\n",
    "\n",
    "diff = absolute_difference(1.0, 2)\n",
    "assert if(type(diff)==type(abs(1.0-2))),'The function returns incorrect data type of the difference between the numbers'"
   ]
  },
  {
   "cell_type": "markdown",
   "metadata": {
    "tags": []
   },
   "source": [
    "### Question 4\n",
    "\n"
   ]
  },
  {
   "cell_type": "code",
   "execution_count": 4,
   "metadata": {},
   "outputs": [],
   "source": [
    "# Write your debugging steps here\n",
    "# After debugging the code in the pdb debugger by using 'n'(next line) command \n",
    "# I identified that the program is assigning the same values to both a and b.\n",
    "#Hence to rectify the bug, I introduced a temporary variable to help in swapping the values of a and b.\n",
    "\n",
    "import pdb\n",
    "\n",
    "def absolute_difference (a, b):\n",
    "    pdb.set_trace()\n",
    "    temp=0\n",
    "    if (a < b):\n",
    "        temp=a\n",
    "        a = b\n",
    "        b = temp\n",
    "    pdb.set_trace()\n",
    "    return a - b\n",
    "\n",
    "diff = absolute_difference(100, 105)\n",
    "\n"
   ]
  },
  {
   "cell_type": "code",
   "execution_count": 3,
   "metadata": {},
   "outputs": [
    {
     "name": "stdout",
     "output_type": "stream",
     "text": [
      "5\n"
     ]
    }
   ],
   "source": [
    "# Write your corrected program here:\n",
    "\n",
    "def absolute_difference (a, b):\n",
    "    temp=0\n",
    "    if (a < b):\n",
    "        temp=a\n",
    "        a=b\n",
    "        b=temp\n",
    "\n",
    "    return a - b\n",
    "\n",
    "diff = absolute_difference(100, 105)\n",
    "print(diff)"
   ]
  },
  {
   "cell_type": "markdown",
   "metadata": {},
   "source": [
    "## Part II - Higher Order Question\n",
    "\n",
    "### Question 5"
   ]
  },
  {
   "cell_type": "code",
   "execution_count": 6,
   "metadata": {
    "tags": []
   },
   "outputs": [],
   "source": [
    "# Write your shell and git commands here for all steps in this question.\n",
    "\n",
    "git branch readme\n",
    "git checkout readme\n",
    "cd qn-1\n",
    "git mv submit.txt submit-checklist.txt\n",
    "cd ..\n",
    "cd qn-5\n",
    "touch README.md\n",
    "mkdir basement\n",
    "cp README.md ./basement/README.txt\n",
    "diff README.md ./basement/README.txt\n",
    "touch readme-files.txt\n",
    "cd ..\n",
    "git add qn-5\n",
    "git add qn-1\n",
    "git commit -m \"completed module test retake B\"\n",
    "git checkout master\n",
    "git merge readme\n",
    "git push\n",
    "git push -u origin readme"
   ]
  },
  {
   "cell_type": "markdown",
   "metadata": {},
   "source": [
    "Your solution to this question should **also** include the file, **list-readme.sh**, added to your repository."
   ]
  },
  {
   "cell_type": "markdown",
   "metadata": {},
   "source": [
    "<!-- END QUESTION -->\n",
    "\n"
   ]
  }
 ],
 "metadata": {
  "celltoolbar": "Edit Metadata",
  "kernelspec": {
   "display_name": "Python 3 (ipykernel)",
   "language": "python",
   "name": "python3"
  },
  "language_info": {
   "codemirror_mode": {
    "name": "ipython",
    "version": 3
   },
   "file_extension": ".py",
   "mimetype": "text/x-python",
   "name": "python",
   "nbconvert_exporter": "python",
   "pygments_lexer": "ipython3",
   "version": "3.9.12"
  },
  "varInspector": {
   "cols": {
    "lenName": 16,
    "lenType": 16,
    "lenVar": 40
   },
   "kernels_config": {
    "python": {
     "delete_cmd_postfix": "",
     "delete_cmd_prefix": "del ",
     "library": "var_list.py",
     "varRefreshCmd": "print(var_dic_list())"
    },
    "r": {
     "delete_cmd_postfix": ") ",
     "delete_cmd_prefix": "rm(",
     "library": "var_list.r",
     "varRefreshCmd": "cat(var_dic_list()) "
    }
   },
   "types_to_exclude": [
    "module",
    "function",
    "builtin_function_or_method",
    "instance",
    "_Feature"
   ],
   "window_display": false
  }
 },
 "nbformat": 4,
 "nbformat_minor": 4
}
